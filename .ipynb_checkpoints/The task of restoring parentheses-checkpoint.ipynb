{
 "cells": [
  {
   "cell_type": "code",
   "execution_count": 245,
   "metadata": {},
   "outputs": [],
   "source": [
    "\n",
    "def recover(_str):\n",
    "    if(len(_str)%2!=0):\n",
    "        print(\"The balance is impossible: the length is not even\")\n",
    "        return\n",
    "    if(_str[0]==')'):\n",
    "        print(\"The balance is impossible: the first symbol is ')' \")\n",
    "        return \n",
    "    else:\n",
    "        prefix=0\n",
    "        count=np.zeros((len(_str)+1,len(_str)+1));\n",
    "        count[0][0]=1;\n",
    "        for x in _str:\n",
    "            if(x=='('):\n",
    "                prefix+=1\n",
    "                for i in range(len(_str)-1):\n",
    "                    if(count[i][prefix-1]>0):\n",
    "                        #if(count[i+1][prefix]==0):\n",
    "                        count[i+1][prefix]+=count[i][prefix-1]\n",
    "                continue\n",
    "            if(x==')'):\n",
    "                prefix+=1\n",
    "                for i in range(1,len(_str)):\n",
    "                    if(count[i][prefix-1]>0):\n",
    "                        #if(count[i-1][prefix]==0):\n",
    "                        count[i-1][prefix]+=count[i][prefix-1]\n",
    "                    continue\n",
    "                else:\n",
    "                    continue\n",
    "            if(x=='?'):\n",
    "                prefix+=1\n",
    "                for i in range(len(_str)):\n",
    "                    if(count[i][prefix-1]>0):\n",
    "                        if(i>0):\n",
    "                            if(count[i-1][prefix]==0):\n",
    "                                plus(count,i-1,prefix,len(_str))\n",
    "                        if(i<len(_str)):\n",
    "                            if(count[i+1][prefix]==0):\n",
    "                                plus(count,i+1,prefix,len(_str))\n",
    "        \n",
    "            \n",
    "    print(count)\n",
    "    print(\"HELL YEAH, the number of possible options is \",count[0][len(_str)],\" !!!\")\n",
    "    return\n",
    "                "
   ]
  },
  {
   "cell_type": "code",
   "execution_count": 250,
   "metadata": {},
   "outputs": [
    {
     "name": "stdout",
     "output_type": "stream",
     "text": [
      "[[1. 0. 1. 0. 2. 0. 2.]\n",
      " [0. 1. 0. 2. 0. 2. 0.]\n",
      " [0. 0. 1. 0. 3. 0. 5.]\n",
      " [0. 0. 0. 1. 0. 3. 0.]\n",
      " [0. 0. 0. 0. 1. 0. 4.]\n",
      " [0. 0. 0. 0. 0. 1. 0.]\n",
      " [0. 0. 0. 0. 0. 0. 1.]]\n",
      "HELL YEAH, the number of possible options is  2.0  !!!\n"
     ]
    }
   ],
   "source": [
    "str1='????(?'\n",
    "recover(str1)"
   ]
  },
  {
   "cell_type": "code",
   "execution_count": 246,
   "metadata": {},
   "outputs": [],
   "source": [
    "def plus(_count,_open,_prefix,_len):\n",
    "    if(_open<_len):\n",
    "        _count[_open][_prefix]+=_count[_open+1][_prefix-1]\n",
    "    if(_open>0):\n",
    "        _count[_open][_prefix]+=_count[_open-1][_prefix-1]\n",
    "\n",
    "\n",
    "def balance(str):\n",
    "    if(str[0]==')'):\n",
    "        return False\n",
    "    count_blnc=0\n",
    "    for x in str:\n",
    "        if (x=='('):\n",
    "            count_blnc+=1\n",
    "        if(x==')'):\n",
    "            count_blnc-=1\n",
    "    if(count_blnc==0):\n",
    "        return True\n",
    "    else:\n",
    "        return False\n"
   ]
  },
  {
   "cell_type": "code",
   "execution_count": null,
   "metadata": {},
   "outputs": [],
   "source": []
  }
 ],
 "metadata": {
  "kernelspec": {
   "display_name": "Python 3",
   "language": "python",
   "name": "python3"
  },
  "language_info": {
   "codemirror_mode": {
    "name": "ipython",
    "version": 3
   },
   "file_extension": ".py",
   "mimetype": "text/x-python",
   "name": "python",
   "nbconvert_exporter": "python",
   "pygments_lexer": "ipython3",
   "version": "3.6.4"
  }
 },
 "nbformat": 4,
 "nbformat_minor": 2
}
